{
 "cells": [
  {
   "cell_type": "markdown",
   "id": "446fc219",
   "metadata": {},
   "source": [
    "# Water Potability\n",
    "https://www.kaggle.com/datasets/adityakadiwal/water-potability"
   ]
  },
  {
   "cell_type": "raw",
   "id": "a88b2295",
   "metadata": {},
   "source": [
    "L'accès à l'eau potable est essentiel à la santé, un droit humain fondamental et une composante d'une politique efficace de protection de la santé. Elle est essentielle en terme de santé public et pour le développement aux niveaux national, régional et local. Dans certaines régions, il a été démontré que les investissements dans l'approvisionnement en eau et l'assainissement peuvent produire un avantage économique net, puisque les réductions des effets néfastes sur la santé et des coûts des soins de santé l'emportent sur les coûts des interventions.\n",
    "\n",
    "Teneur Le fichier water_potability.csv contient des mesures de la qualité de l'eau pour 3 276 plans d'eau différents.\n",
    "\n",
    "Valeur pH : Le chlore et la chloramine sont les principaux désinfectants utilisés dans les systèmes publics d'approvisionnement en eau. Les chloramines se forment le plus souvent lorsque de l'ammoniac est ajouté au chlore pour traiter l'eau potable. Des niveaux de chlore allant jusqu'à 4 milligrammes par litre (mg/L ou 4 parties par million (ppm)) sont considérés comme sûrs dans l'eau potable.\n",
    "\n",
    "Dureté : La dureté est principalement causée par les sels de calcium et de magnésium. Ces sels sont dissous à partir des dépôts géologiques à travers lesquels l'eau se déplace. La durée pendant laquelle l'eau est en contact avec le matériau produisant de la dureté aide à déterminer la dureté de l'eau brute. La dureté était à l'origine définie comme la capacité de l'eau à précipiter le savon causé par le calcium et le magnésium.\n",
    "\n",
    "Solides (Total des solides dissous - TDS): Water has the ability to dissolve a wide range of inorganic and some organic minerals or salts such as potassium, calcium, sodium, bicarbonates, chlorides, magnesium, sulfates etc. These minerals produced un-wanted taste and diluted color in appearance of water. This is the important parameter for the use of water. The water with high TDS value indicates that water is highly mineralized. Desirable limit for TDS is 500 mg/l and maximum limit is 1000 mg/l which prescribed for drinking purpose.\n",
    "\n",
    "Chloramines : L'eau a la capacité de dissoudre une large gamme de minéraux ou de sels inorganiques et organiques tels que le potassium, le calcium, le sodium, les bicarbonates, les chlorures, le magnésium, les sulfates, etc. Ces minéraux produisent un goût indésirable et une couleur diluée dans l'apparence de l'eau. C'est le paramètre important pour l'utilisation de l'eau. L'eau avec une valeur TDS élevée indique que l'eau est fortement minéralisée. La limite souhaitable pour le TDS est de 500 mg/l et la limite maximale est de 1000 mg/l, ce qui est prescrit à des fins de consommation.\n",
    "\n",
    "Sulfate : Les sulfates sont des substances naturelles présentes dans les minéraux, le sol et les roches. Ils sont présents dans l'air ambiant, les eaux souterraines, les plantes et les aliments. La principale utilisation commerciale du sulfate est dans l'industrie chimique. La concentration de sulfate dans l'eau de mer est d'environ 2 700 milligrammes par litre (mg/L). Elle varie de 3 à 30 mg/L dans la plupart des approvisionnements en eau douce, bien que des concentrations beaucoup plus élevées (1 000 mg/L) soient trouvées dans certaines zones géographiques.\n",
    "\n",
    "Conductivité : L'eau pure n'est pas un bon conducteur de courant électrique, mais plutôt un bon isolant. L'augmentation de la concentration en ions améliore la conductivité électrique de l'eau. Généralement, la quantité de solides dissous dans l'eau détermine la conductivité électrique. La conductivité électrique (CE) mesure en fait le processus ionique d'une solution qui lui permet de transmettre le courant. Selon les normes de l'OMS, la valeur EC ne doit pas dépasser 400 μS/cm.\n",
    "\n",
    "Carbone_organique : Le carbone organique total (COT) dans les sources d'eau provient de la matière organique naturelle (NOM) en décomposition ainsi que de sources synthétiques. Le COT est une mesure de la quantité totale de carbone dans les composés organiques de l'eau pure. Selon l'US EPA < 2 mg/L en tant que COT dans l'eau traitée/potable et < 4 mg/L dans l'eau de source utilisée pour le traitement.\n",
    "\n",
    "Trihalométhanes : Les THM sont des produits chimiques que l'on peut trouver dans l'eau traitée au chlore. La concentration de THM dans l'eau potable varie selon le niveau de matière organique dans l'eau, la quantité de chlore nécessaire pour traiter l'eau et la température de l'eau qui est traitée. Des niveaux de THM jusqu'à 80 ppm sont considérés comme sûrs dans l'eau potable.\n",
    "\n",
    "Turbidité : La turbidité de l'eau dépend de la quantité de matière solide présente à l'état en suspension. Il s'agit d'une mesure des propriétés d'émission de lumière de l'eau et le test est utilisé pour indiquer la qualité des rejets de déchets par rapport à la matière colloïdale. La valeur moyenne de turbidité obtenue pour le campus de Wondo Genet (0,98 NTU) est inférieure à la valeur recommandée par l'OMS de 5,00 NTU.\n",
    "\n",
    "Potabilité : Indique si l'eau est propre à la consommation humaine où 1 signifie Potable et 0 signifie Non potable."
   ]
  },
  {
   "cell_type": "markdown",
   "id": "2d40da6c",
   "metadata": {},
   "source": [
    "# Liens utiles:\n",
    "\n",
    "https://scikit-learn.org/stable/modules/generated/sklearn.linear_model.LogisticRegression.html\n",
    "    \n",
    "https://scikit-learn.org/stable/modules/generated/sklearn.ensemble.RandomForestClassifier.html\n",
    "    \n",
    "https://scikit-learn.org/stable/modules/generated/sklearn.tree.DecisionTreeClassifier.html\n",
    "    \n",
    "https://scikit-learn.org/stable/modules/generated/sklearn.neighbors.KNeighborsClassifier.html\n",
    "\n",
    "https://scikit-learn.org/stable/modules/generated/sklearn.model_selection.train_test_split.html\n",
    "\n",
    "https://imbalanced-learn.org/stable/references/generated/imblearn.over_sampling.SMOTE.html\n",
    "\n",
    "https://scikit-learn.org/stable/modules/generated/sklearn.metrics.precision_score.html\n",
    "\n",
    "https://fr.wikipedia.org/wiki/Coefficient_de_variation\n",
    "\n",
    "https://kobia.fr/imbalanced-data-smote/"
   ]
  },
  {
   "cell_type": "code",
   "execution_count": 1,
   "id": "d00d13af",
   "metadata": {},
   "outputs": [],
   "source": [
    "# Installation de imbalanced-learn pour le SMOTE\n",
    "#pip install -U imbalanced-learn"
   ]
  },
  {
   "cell_type": "markdown",
   "id": "ed98cf5f",
   "metadata": {},
   "source": [
    "# 1) Importation des bibliothèques"
   ]
  },
  {
   "cell_type": "code",
   "execution_count": 2,
   "id": "b347ff9f",
   "metadata": {},
   "outputs": [],
   "source": [
    "# Analyse \n",
    "import pandas as pd\n",
    "import numpy as np\n",
    "\n",
    "# Etude graphique\n",
    "import matplotlib.pyplot as plt\n",
    "import seaborn as sns\n",
    "\n",
    "# Modélisation\n",
    "from sklearn.model_selection import train_test_split\n",
    "from sklearn.model_selection import KFold, cross_val_score\n",
    "from sklearn.metrics import precision_score,accuracy_score\n",
    "from sklearn.model_selection import GridSearchCV\n",
    "\n",
    "from sklearn.linear_model import LogisticRegression\n",
    "from sklearn.neighbors import KNeighborsClassifier\n",
    "from sklearn.tree import DecisionTreeClassifier\n",
    "from sklearn.ensemble import RandomForestClassifier\n",
    "\n",
    "# Combinaison \n",
    "from itertools import combinations\n",
    "import operator\n",
    "\n",
    "# Valeurs manquantes\n",
    "import missingno as msno\n",
    "\n",
    "# Suppression des alertes\n",
    "import warnings\n",
    "warnings.filterwarnings(\"ignore\")\n",
    "\n",
    "# Oversampling\n",
    "from imblearn.over_sampling import SMOTE"
   ]
  },
  {
   "cell_type": "markdown",
   "id": "653fe0d5",
   "metadata": {},
   "source": [
    "# 2) Importation du dataset"
   ]
  },
  {
   "cell_type": "code",
   "execution_count": 3,
   "id": "5f71a2f2",
   "metadata": {},
   "outputs": [
    {
     "data": {
      "text/html": [
       "<div>\n",
       "<style scoped>\n",
       "    .dataframe tbody tr th:only-of-type {\n",
       "        vertical-align: middle;\n",
       "    }\n",
       "\n",
       "    .dataframe tbody tr th {\n",
       "        vertical-align: top;\n",
       "    }\n",
       "\n",
       "    .dataframe thead th {\n",
       "        text-align: right;\n",
       "    }\n",
       "</style>\n",
       "<table border=\"1\" class=\"dataframe\">\n",
       "  <thead>\n",
       "    <tr style=\"text-align: right;\">\n",
       "      <th></th>\n",
       "      <th>ph</th>\n",
       "      <th>Hardness</th>\n",
       "      <th>Solids</th>\n",
       "      <th>Chloramines</th>\n",
       "      <th>Sulfate</th>\n",
       "      <th>Conductivity</th>\n",
       "      <th>Organic_carbon</th>\n",
       "      <th>Trihalomethanes</th>\n",
       "      <th>Turbidity</th>\n",
       "      <th>Potability</th>\n",
       "    </tr>\n",
       "  </thead>\n",
       "  <tbody>\n",
       "    <tr>\n",
       "      <th>0</th>\n",
       "      <td>NaN</td>\n",
       "      <td>204.890455</td>\n",
       "      <td>20791.318981</td>\n",
       "      <td>7.300212</td>\n",
       "      <td>368.516441</td>\n",
       "      <td>564.308654</td>\n",
       "      <td>10.379783</td>\n",
       "      <td>86.990970</td>\n",
       "      <td>2.963135</td>\n",
       "      <td>0</td>\n",
       "    </tr>\n",
       "    <tr>\n",
       "      <th>1</th>\n",
       "      <td>3.716080</td>\n",
       "      <td>129.422921</td>\n",
       "      <td>18630.057858</td>\n",
       "      <td>6.635246</td>\n",
       "      <td>NaN</td>\n",
       "      <td>592.885359</td>\n",
       "      <td>15.180013</td>\n",
       "      <td>56.329076</td>\n",
       "      <td>4.500656</td>\n",
       "      <td>0</td>\n",
       "    </tr>\n",
       "    <tr>\n",
       "      <th>2</th>\n",
       "      <td>8.099124</td>\n",
       "      <td>224.236259</td>\n",
       "      <td>19909.541732</td>\n",
       "      <td>9.275884</td>\n",
       "      <td>NaN</td>\n",
       "      <td>418.606213</td>\n",
       "      <td>16.868637</td>\n",
       "      <td>66.420093</td>\n",
       "      <td>3.055934</td>\n",
       "      <td>0</td>\n",
       "    </tr>\n",
       "    <tr>\n",
       "      <th>3</th>\n",
       "      <td>8.316766</td>\n",
       "      <td>214.373394</td>\n",
       "      <td>22018.417441</td>\n",
       "      <td>8.059332</td>\n",
       "      <td>356.886136</td>\n",
       "      <td>363.266516</td>\n",
       "      <td>18.436524</td>\n",
       "      <td>100.341674</td>\n",
       "      <td>4.628771</td>\n",
       "      <td>0</td>\n",
       "    </tr>\n",
       "    <tr>\n",
       "      <th>4</th>\n",
       "      <td>9.092223</td>\n",
       "      <td>181.101509</td>\n",
       "      <td>17978.986339</td>\n",
       "      <td>6.546600</td>\n",
       "      <td>310.135738</td>\n",
       "      <td>398.410813</td>\n",
       "      <td>11.558279</td>\n",
       "      <td>31.997993</td>\n",
       "      <td>4.075075</td>\n",
       "      <td>0</td>\n",
       "    </tr>\n",
       "    <tr>\n",
       "      <th>...</th>\n",
       "      <td>...</td>\n",
       "      <td>...</td>\n",
       "      <td>...</td>\n",
       "      <td>...</td>\n",
       "      <td>...</td>\n",
       "      <td>...</td>\n",
       "      <td>...</td>\n",
       "      <td>...</td>\n",
       "      <td>...</td>\n",
       "      <td>...</td>\n",
       "    </tr>\n",
       "    <tr>\n",
       "      <th>3271</th>\n",
       "      <td>4.668102</td>\n",
       "      <td>193.681735</td>\n",
       "      <td>47580.991603</td>\n",
       "      <td>7.166639</td>\n",
       "      <td>359.948574</td>\n",
       "      <td>526.424171</td>\n",
       "      <td>13.894419</td>\n",
       "      <td>66.687695</td>\n",
       "      <td>4.435821</td>\n",
       "      <td>1</td>\n",
       "    </tr>\n",
       "    <tr>\n",
       "      <th>3272</th>\n",
       "      <td>7.808856</td>\n",
       "      <td>193.553212</td>\n",
       "      <td>17329.802160</td>\n",
       "      <td>8.061362</td>\n",
       "      <td>NaN</td>\n",
       "      <td>392.449580</td>\n",
       "      <td>19.903225</td>\n",
       "      <td>NaN</td>\n",
       "      <td>2.798243</td>\n",
       "      <td>1</td>\n",
       "    </tr>\n",
       "    <tr>\n",
       "      <th>3273</th>\n",
       "      <td>9.419510</td>\n",
       "      <td>175.762646</td>\n",
       "      <td>33155.578218</td>\n",
       "      <td>7.350233</td>\n",
       "      <td>NaN</td>\n",
       "      <td>432.044783</td>\n",
       "      <td>11.039070</td>\n",
       "      <td>69.845400</td>\n",
       "      <td>3.298875</td>\n",
       "      <td>1</td>\n",
       "    </tr>\n",
       "    <tr>\n",
       "      <th>3274</th>\n",
       "      <td>5.126763</td>\n",
       "      <td>230.603758</td>\n",
       "      <td>11983.869376</td>\n",
       "      <td>6.303357</td>\n",
       "      <td>NaN</td>\n",
       "      <td>402.883113</td>\n",
       "      <td>11.168946</td>\n",
       "      <td>77.488213</td>\n",
       "      <td>4.708658</td>\n",
       "      <td>1</td>\n",
       "    </tr>\n",
       "    <tr>\n",
       "      <th>3275</th>\n",
       "      <td>7.874671</td>\n",
       "      <td>195.102299</td>\n",
       "      <td>17404.177061</td>\n",
       "      <td>7.509306</td>\n",
       "      <td>NaN</td>\n",
       "      <td>327.459760</td>\n",
       "      <td>16.140368</td>\n",
       "      <td>78.698446</td>\n",
       "      <td>2.309149</td>\n",
       "      <td>1</td>\n",
       "    </tr>\n",
       "  </tbody>\n",
       "</table>\n",
       "<p>3276 rows × 10 columns</p>\n",
       "</div>"
      ],
      "text/plain": [
       "            ph    Hardness        Solids  Chloramines     Sulfate  \\\n",
       "0          NaN  204.890455  20791.318981     7.300212  368.516441   \n",
       "1     3.716080  129.422921  18630.057858     6.635246         NaN   \n",
       "2     8.099124  224.236259  19909.541732     9.275884         NaN   \n",
       "3     8.316766  214.373394  22018.417441     8.059332  356.886136   \n",
       "4     9.092223  181.101509  17978.986339     6.546600  310.135738   \n",
       "...        ...         ...           ...          ...         ...   \n",
       "3271  4.668102  193.681735  47580.991603     7.166639  359.948574   \n",
       "3272  7.808856  193.553212  17329.802160     8.061362         NaN   \n",
       "3273  9.419510  175.762646  33155.578218     7.350233         NaN   \n",
       "3274  5.126763  230.603758  11983.869376     6.303357         NaN   \n",
       "3275  7.874671  195.102299  17404.177061     7.509306         NaN   \n",
       "\n",
       "      Conductivity  Organic_carbon  Trihalomethanes  Turbidity  Potability  \n",
       "0       564.308654       10.379783        86.990970   2.963135           0  \n",
       "1       592.885359       15.180013        56.329076   4.500656           0  \n",
       "2       418.606213       16.868637        66.420093   3.055934           0  \n",
       "3       363.266516       18.436524       100.341674   4.628771           0  \n",
       "4       398.410813       11.558279        31.997993   4.075075           0  \n",
       "...            ...             ...              ...        ...         ...  \n",
       "3271    526.424171       13.894419        66.687695   4.435821           1  \n",
       "3272    392.449580       19.903225              NaN   2.798243           1  \n",
       "3273    432.044783       11.039070        69.845400   3.298875           1  \n",
       "3274    402.883113       11.168946        77.488213   4.708658           1  \n",
       "3275    327.459760       16.140368        78.698446   2.309149           1  \n",
       "\n",
       "[3276 rows x 10 columns]"
      ]
     },
     "execution_count": 3,
     "metadata": {},
     "output_type": "execute_result"
    }
   ],
   "source": [
    "df = pd.read_csv('water_potability.csv')\n",
    "df"
   ]
  },
  {
   "cell_type": "markdown",
   "id": "05dd6ff0",
   "metadata": {},
   "source": [
    "# 3) Description des données"
   ]
  },
  {
   "cell_type": "code",
   "execution_count": 4,
   "id": "016a6435",
   "metadata": {},
   "outputs": [
    {
     "name": "stdout",
     "output_type": "stream",
     "text": [
      "<class 'pandas.core.frame.DataFrame'>\n",
      "RangeIndex: 3276 entries, 0 to 3275\n",
      "Data columns (total 10 columns):\n",
      " #   Column           Non-Null Count  Dtype  \n",
      "---  ------           --------------  -----  \n",
      " 0   ph               2785 non-null   float64\n",
      " 1   Hardness         3276 non-null   float64\n",
      " 2   Solids           3276 non-null   float64\n",
      " 3   Chloramines      3276 non-null   float64\n",
      " 4   Sulfate          2495 non-null   float64\n",
      " 5   Conductivity     3276 non-null   float64\n",
      " 6   Organic_carbon   3276 non-null   float64\n",
      " 7   Trihalomethanes  3114 non-null   float64\n",
      " 8   Turbidity        3276 non-null   float64\n",
      " 9   Potability       3276 non-null   int64  \n",
      "dtypes: float64(9), int64(1)\n",
      "memory usage: 256.1 KB\n"
     ]
    }
   ],
   "source": [
    "# Informations sur le dataset\n",
    "df.info()"
   ]
  },
  {
   "cell_type": "raw",
   "id": "dcfef2ec",
   "metadata": {},
   "source": [
    "Le dataset se compose de 3276 lignes et de 10 colonnes.\n",
    "\n",
    "La variable cible est 'Potability': variable qualitative nominale\n",
    "\n",
    "Les 9 autres variables numériques sont quantitatives continues.\n",
    "\n",
    "D'après ces informations, l'on constate des valeurs manquantes pour certains paramètres : ph, Sulfate et Trihalomethanes."
   ]
  },
  {
   "cell_type": "code",
   "execution_count": 5,
   "id": "779dc438",
   "metadata": {},
   "outputs": [
    {
     "data": {
      "text/html": [
       "<div>\n",
       "<style scoped>\n",
       "    .dataframe tbody tr th:only-of-type {\n",
       "        vertical-align: middle;\n",
       "    }\n",
       "\n",
       "    .dataframe tbody tr th {\n",
       "        vertical-align: top;\n",
       "    }\n",
       "\n",
       "    .dataframe thead th {\n",
       "        text-align: right;\n",
       "    }\n",
       "</style>\n",
       "<table border=\"1\" class=\"dataframe\">\n",
       "  <thead>\n",
       "    <tr style=\"text-align: right;\">\n",
       "      <th></th>\n",
       "      <th>count</th>\n",
       "      <th>mean</th>\n",
       "      <th>std</th>\n",
       "      <th>min</th>\n",
       "      <th>25%</th>\n",
       "      <th>50%</th>\n",
       "      <th>75%</th>\n",
       "      <th>max</th>\n",
       "    </tr>\n",
       "  </thead>\n",
       "  <tbody>\n",
       "    <tr>\n",
       "      <th>ph</th>\n",
       "      <td>1101.0</td>\n",
       "      <td>7.073783</td>\n",
       "      <td>1.448048</td>\n",
       "      <td>0.227499</td>\n",
       "      <td>6.179312</td>\n",
       "      <td>7.036752</td>\n",
       "      <td>7.933068</td>\n",
       "      <td>13.175402</td>\n",
       "    </tr>\n",
       "    <tr>\n",
       "      <th>Hardness</th>\n",
       "      <td>1278.0</td>\n",
       "      <td>195.800744</td>\n",
       "      <td>35.547041</td>\n",
       "      <td>47.432000</td>\n",
       "      <td>174.330531</td>\n",
       "      <td>196.632907</td>\n",
       "      <td>218.003420</td>\n",
       "      <td>323.124000</td>\n",
       "    </tr>\n",
       "    <tr>\n",
       "      <th>Solids</th>\n",
       "      <td>1278.0</td>\n",
       "      <td>22383.991018</td>\n",
       "      <td>9101.010208</td>\n",
       "      <td>728.750830</td>\n",
       "      <td>15668.985035</td>\n",
       "      <td>21199.386614</td>\n",
       "      <td>27973.236446</td>\n",
       "      <td>56488.672413</td>\n",
       "    </tr>\n",
       "    <tr>\n",
       "      <th>Chloramines</th>\n",
       "      <td>1278.0</td>\n",
       "      <td>7.169338</td>\n",
       "      <td>1.702988</td>\n",
       "      <td>0.352000</td>\n",
       "      <td>6.094134</td>\n",
       "      <td>7.215163</td>\n",
       "      <td>8.199261</td>\n",
       "      <td>13.127000</td>\n",
       "    </tr>\n",
       "    <tr>\n",
       "      <th>Sulfate</th>\n",
       "      <td>985.0</td>\n",
       "      <td>332.566990</td>\n",
       "      <td>47.692818</td>\n",
       "      <td>129.000000</td>\n",
       "      <td>300.763772</td>\n",
       "      <td>331.838167</td>\n",
       "      <td>365.941346</td>\n",
       "      <td>481.030642</td>\n",
       "    </tr>\n",
       "    <tr>\n",
       "      <th>Conductivity</th>\n",
       "      <td>1278.0</td>\n",
       "      <td>425.383800</td>\n",
       "      <td>82.048446</td>\n",
       "      <td>201.619737</td>\n",
       "      <td>360.939023</td>\n",
       "      <td>420.712729</td>\n",
       "      <td>484.155911</td>\n",
       "      <td>695.369528</td>\n",
       "    </tr>\n",
       "    <tr>\n",
       "      <th>Organic_carbon</th>\n",
       "      <td>1278.0</td>\n",
       "      <td>14.160893</td>\n",
       "      <td>3.263907</td>\n",
       "      <td>2.200000</td>\n",
       "      <td>12.033897</td>\n",
       "      <td>14.162809</td>\n",
       "      <td>16.356245</td>\n",
       "      <td>23.604298</td>\n",
       "    </tr>\n",
       "    <tr>\n",
       "      <th>Trihalomethanes</th>\n",
       "      <td>1223.0</td>\n",
       "      <td>66.539684</td>\n",
       "      <td>16.327419</td>\n",
       "      <td>8.175876</td>\n",
       "      <td>56.014249</td>\n",
       "      <td>66.678214</td>\n",
       "      <td>77.380975</td>\n",
       "      <td>124.000000</td>\n",
       "    </tr>\n",
       "    <tr>\n",
       "      <th>Turbidity</th>\n",
       "      <td>1278.0</td>\n",
       "      <td>3.968328</td>\n",
       "      <td>0.780842</td>\n",
       "      <td>1.492207</td>\n",
       "      <td>3.430909</td>\n",
       "      <td>3.958576</td>\n",
       "      <td>4.509569</td>\n",
       "      <td>6.494249</td>\n",
       "    </tr>\n",
       "    <tr>\n",
       "      <th>Potability</th>\n",
       "      <td>1278.0</td>\n",
       "      <td>1.000000</td>\n",
       "      <td>0.000000</td>\n",
       "      <td>1.000000</td>\n",
       "      <td>1.000000</td>\n",
       "      <td>1.000000</td>\n",
       "      <td>1.000000</td>\n",
       "      <td>1.000000</td>\n",
       "    </tr>\n",
       "  </tbody>\n",
       "</table>\n",
       "</div>"
      ],
      "text/plain": [
       "                  count          mean          std         min           25%  \\\n",
       "ph               1101.0      7.073783     1.448048    0.227499      6.179312   \n",
       "Hardness         1278.0    195.800744    35.547041   47.432000    174.330531   \n",
       "Solids           1278.0  22383.991018  9101.010208  728.750830  15668.985035   \n",
       "Chloramines      1278.0      7.169338     1.702988    0.352000      6.094134   \n",
       "Sulfate           985.0    332.566990    47.692818  129.000000    300.763772   \n",
       "Conductivity     1278.0    425.383800    82.048446  201.619737    360.939023   \n",
       "Organic_carbon   1278.0     14.160893     3.263907    2.200000     12.033897   \n",
       "Trihalomethanes  1223.0     66.539684    16.327419    8.175876     56.014249   \n",
       "Turbidity        1278.0      3.968328     0.780842    1.492207      3.430909   \n",
       "Potability       1278.0      1.000000     0.000000    1.000000      1.000000   \n",
       "\n",
       "                          50%           75%           max  \n",
       "ph                   7.036752      7.933068     13.175402  \n",
       "Hardness           196.632907    218.003420    323.124000  \n",
       "Solids           21199.386614  27973.236446  56488.672413  \n",
       "Chloramines          7.215163      8.199261     13.127000  \n",
       "Sulfate            331.838167    365.941346    481.030642  \n",
       "Conductivity       420.712729    484.155911    695.369528  \n",
       "Organic_carbon      14.162809     16.356245     23.604298  \n",
       "Trihalomethanes     66.678214     77.380975    124.000000  \n",
       "Turbidity            3.958576      4.509569      6.494249  \n",
       "Potability           1.000000      1.000000      1.000000  "
      ]
     },
     "execution_count": 5,
     "metadata": {},
     "output_type": "execute_result"
    }
   ],
   "source": [
    "# Description des données\n",
    "df[df['Potability']==1].describe().T"
   ]
  },
  {
   "cell_type": "raw",
   "id": "c4b59680",
   "metadata": {},
   "source": [
    "Moyennes, écart-types, min, max, 1er quartiles, médiannes et 3e quartiles des différents paramètres."
   ]
  },
  {
   "cell_type": "code",
   "execution_count": 6,
   "id": "c5f81471",
   "metadata": {},
   "outputs": [
    {
     "data": {
      "image/png": "[encoded data removed]",
      "text/plain": [
       "<Figure size 504x504 with 1 Axes>"
      ]
     },
     "metadata": {},
     "output_type": "display_data"
    }
   ],
   "source": [
    "# Répartion des échantillons en terme de potabilité\n",
    "potability_pie = df['Potability'].value_counts()\n",
    "fig, ax = plt.subplots(figsize=(7, 7))\n",
    "labels = 'Non potable', 'Potable'\n",
    "colors = ['#1B6473', '#12CBF0']\n",
    "explode = (0, 0.1)\n",
    "ax.pie(potability_pie, labels=labels, autopct='%1.1f%%', colors=colors, shadow=True, startangle=90, explode=explode)\n",
    "ax.axis('equal')\n",
    "plt.title('Repartition des échantillons en terme de potabilité', fontsize=14)\n",
    "plt.show()"
   ]
  },
  {
   "cell_type": "raw",
   "id": "734a8d59",
   "metadata": {},
   "source": [
    "61% des échantillons concernent des eaux non potables et 39% concernent des eaux potables. Il ya donc une disproportion des échantillons en terme de potabilité. Il sera étudier par la suite des techniques d'oversampling ou undersampling à l'aide d'un SMOTE en vue de palier à ce biai."
   ]
  },
  {
   "cell_type": "markdown",
   "id": "3065e4c5",
   "metadata": {},
   "source": [
    "# 4) Valeurs manquantes"
   ]
  },
  {
   "cell_type": "code",
   "execution_count": 7,
   "id": "0b1c50c3",
   "metadata": {},
   "outputs": [
    {
     "data": {
      "text/plain": [
       "<AxesSubplot:>"
      ]
     },
     "execution_count": 7,
     "metadata": {},
     "output_type": "execute_result"
    },
    {
     "data": {
      "image/png": "[encoded data removed]",
      "text/plain": [
       "<Figure size 576x288 with 3 Axes>"
      ]
     },
     "metadata": {
      "needs_background": "light"
     },
     "output_type": "display_data"
    }
   ],
   "source": [
    "# Visualisation graphique des valeurs manquantes\n",
    "msno.bar(df, color=\"#075086\", sort=\"ascending\", figsize=(8,4), fontsize=15)"
   ]
  },
  {
   "cell_type": "code",
   "execution_count": 8,
   "id": "433479ee",
   "metadata": {},
   "outputs": [
    {
     "data": {
      "text/plain": [
       "Sulfate            23.840049\n",
       "ph                 14.987790\n",
       "Trihalomethanes     4.945055\n",
       "dtype: float64"
      ]
     },
     "execution_count": 8,
     "metadata": {},
     "output_type": "execute_result"
    }
   ],
   "source": [
    "# Proportion de valeurs manquantes\n",
    "missing_data = ['ph', 'Sulfate', 'Trihalomethanes']\n",
    "missing_data_percent = df[missing_data].isna().sum() / len(df) * 100\n",
    "missing_data_percent.sort_values(ascending=False)"
   ]
  },
  {
   "cell_type": "raw",
   "id": "1b38908d",
   "metadata": {},
   "source": [
    "Concernant respectivement le Sulphate, le ph et le Trihalomethanes,  il y a environ 24%, 15% et 5% de valeurs manquantes.\n",
    "Afin de traiter les valeurs manquantes, il sera utilisé le calcul du coefficient de variation afin de savoir si l'on remplace ces valeurs par la moyenne ou l'écart-type."
   ]
  },
  {
   "cell_type": "code",
   "execution_count": 9,
   "id": "4482a83d",
   "metadata": {},
   "outputs": [
    {
     "data": {
      "text/plain": [
       "ph                 0.225161\n",
       "Sulfate            0.124086\n",
       "Trihalomethanes    0.243613\n",
       "dtype: float64"
      ]
     },
     "execution_count": 9,
     "metadata": {},
     "output_type": "execute_result"
    }
   ],
   "source": [
    "# Calcul du coefficient de variation: cv = std / mean\n",
    "cv = df[missing_data].std()/df[missing_data].mean()\n",
    "cv"
   ]
  },
  {
   "cell_type": "raw",
   "id": "f829efe3",
   "metadata": {},
   "source": [
    "Pour le 3 paramètres ci-dessus, le cv est inférieur à 1. Les valeurs manquantes seront remplacées par la moyenne de chacun de ces paramètres."
   ]
  },
  {
   "cell_type": "code",
   "execution_count": 10,
   "id": "3a4c06ba",
   "metadata": {},
   "outputs": [
    {
     "data": {
      "text/plain": [
       "ph                 0\n",
       "Sulfate            0\n",
       "Trihalomethanes    0\n",
       "dtype: int64"
      ]
     },
     "execution_count": 10,
     "metadata": {},
     "output_type": "execute_result"
    }
   ],
   "source": [
    "# Remplacement des valeurs manquantes\n",
    "df['ph'] = df['ph'].fillna(df['ph'].mean())\n",
    "df['Sulfate'] = df['Sulfate'].fillna(df['Sulfate'].mean())\n",
    "df['Trihalomethanes'] = df['Trihalomethanes'].fillna(df['Trihalomethanes'].mean())\n",
    "# Vérification \n",
    "df[missing_data].isna().sum()"
   ]
  },
  {
   "cell_type": "markdown",
   "id": "1f067330",
   "metadata": {},
   "source": [
    "# 5) Etude des corrélations entre les variables numériques expliquatives"
   ]
  },
  {
   "cell_type": "code",
   "execution_count": 11,
   "id": "09ec9e6b",
   "metadata": {},
   "outputs": [
    {
     "data": {
      "text/html": [
       "<div>\n",
       "<style scoped>\n",
       "    .dataframe tbody tr th:only-of-type {\n",
       "        vertical-align: middle;\n",
       "    }\n",
       "\n",
       "    .dataframe tbody tr th {\n",
       "        vertical-align: top;\n",
       "    }\n",
       "\n",
       "    .dataframe thead th {\n",
       "        text-align: right;\n",
       "    }\n",
       "</style>\n",
       "<table border=\"1\" class=\"dataframe\">\n",
       "  <thead>\n",
       "    <tr style=\"text-align: right;\">\n",
       "      <th></th>\n",
       "      <th>ph</th>\n",
       "      <th>Hardness</th>\n",
       "      <th>Solids</th>\n",
       "      <th>Chloramines</th>\n",
       "      <th>Sulfate</th>\n",
       "      <th>Conductivity</th>\n",
       "      <th>Organic_carbon</th>\n",
       "      <th>Trihalomethanes</th>\n",
       "      <th>Turbidity</th>\n",
       "    </tr>\n",
       "  </thead>\n",
       "  <tbody>\n",
       "    <tr>\n",
       "      <th>ph</th>\n",
       "      <td>1.000000</td>\n",
       "      <td>0.075833</td>\n",
       "      <td>-0.081884</td>\n",
       "      <td>-0.031811</td>\n",
       "      <td>0.014403</td>\n",
       "      <td>0.017192</td>\n",
       "      <td>0.040061</td>\n",
       "      <td>0.002994</td>\n",
       "      <td>-0.036222</td>\n",
       "    </tr>\n",
       "    <tr>\n",
       "      <th>Hardness</th>\n",
       "      <td>0.075833</td>\n",
       "      <td>1.000000</td>\n",
       "      <td>-0.046899</td>\n",
       "      <td>-0.030054</td>\n",
       "      <td>-0.092766</td>\n",
       "      <td>-0.023915</td>\n",
       "      <td>0.003610</td>\n",
       "      <td>-0.012690</td>\n",
       "      <td>-0.014449</td>\n",
       "    </tr>\n",
       "    <tr>\n",
       "      <th>Solids</th>\n",
       "      <td>-0.081884</td>\n",
       "      <td>-0.046899</td>\n",
       "      <td>1.000000</td>\n",
       "      <td>-0.070148</td>\n",
       "      <td>-0.149840</td>\n",
       "      <td>0.013831</td>\n",
       "      <td>0.010242</td>\n",
       "      <td>-0.008875</td>\n",
       "      <td>0.019546</td>\n",
       "    </tr>\n",
       "    <tr>\n",
       "      <th>Chloramines</th>\n",
       "      <td>-0.031811</td>\n",
       "      <td>-0.030054</td>\n",
       "      <td>-0.070148</td>\n",
       "      <td>1.000000</td>\n",
       "      <td>0.023791</td>\n",
       "      <td>-0.020486</td>\n",
       "      <td>-0.012653</td>\n",
       "      <td>0.016627</td>\n",
       "      <td>0.002363</td>\n",
       "    </tr>\n",
       "    <tr>\n",
       "      <th>Sulfate</th>\n",
       "      <td>0.014403</td>\n",
       "      <td>-0.092766</td>\n",
       "      <td>-0.149840</td>\n",
       "      <td>0.023791</td>\n",
       "      <td>1.000000</td>\n",
       "      <td>-0.014059</td>\n",
       "      <td>0.026909</td>\n",
       "      <td>-0.025605</td>\n",
       "      <td>-0.009790</td>\n",
       "    </tr>\n",
       "    <tr>\n",
       "      <th>Conductivity</th>\n",
       "      <td>0.017192</td>\n",
       "      <td>-0.023915</td>\n",
       "      <td>0.013831</td>\n",
       "      <td>-0.020486</td>\n",
       "      <td>-0.014059</td>\n",
       "      <td>1.000000</td>\n",
       "      <td>0.020966</td>\n",
       "      <td>0.001255</td>\n",
       "      <td>0.005798</td>\n",
       "    </tr>\n",
       "    <tr>\n",
       "      <th>Organic_carbon</th>\n",
       "      <td>0.040061</td>\n",
       "      <td>0.003610</td>\n",
       "      <td>0.010242</td>\n",
       "      <td>-0.012653</td>\n",
       "      <td>0.026909</td>\n",
       "      <td>0.020966</td>\n",
       "      <td>1.000000</td>\n",
       "      <td>-0.012976</td>\n",
       "      <td>-0.027308</td>\n",
       "    </tr>\n",
       "    <tr>\n",
       "      <th>Trihalomethanes</th>\n",
       "      <td>0.002994</td>\n",
       "      <td>-0.012690</td>\n",
       "      <td>-0.008875</td>\n",
       "      <td>0.016627</td>\n",
       "      <td>-0.025605</td>\n",
       "      <td>0.001255</td>\n",
       "      <td>-0.012976</td>\n",
       "      <td>1.000000</td>\n",
       "      <td>-0.021502</td>\n",
       "    </tr>\n",
       "    <tr>\n",
       "      <th>Turbidity</th>\n",
       "      <td>-0.036222</td>\n",
       "      <td>-0.014449</td>\n",
       "      <td>0.019546</td>\n",
       "      <td>0.002363</td>\n",
       "      <td>-0.009790</td>\n",
       "      <td>0.005798</td>\n",
       "      <td>-0.027308</td>\n",
       "      <td>-0.021502</td>\n",
       "      <td>1.000000</td>\n",
       "    </tr>\n",
       "  </tbody>\n",
       "</table>\n",
       "</div>"
      ],
      "text/plain": [
       "                       ph  Hardness    Solids  Chloramines   Sulfate  \\\n",
       "ph               1.000000  0.075833 -0.081884    -0.031811  0.014403   \n",
       "Hardness         0.075833  1.000000 -0.046899    -0.030054 -0.092766   \n",
       "Solids          -0.081884 -0.046899  1.000000    -0.070148 -0.149840   \n",
       "Chloramines     -0.031811 -0.030054 -0.070148     1.000000  0.023791   \n",
       "Sulfate          0.014403 -0.092766 -0.149840     0.023791  1.000000   \n",
       "Conductivity     0.017192 -0.023915  0.013831    -0.020486 -0.014059   \n",
       "Organic_carbon   0.040061  0.003610  0.010242    -0.012653  0.026909   \n",
       "Trihalomethanes  0.002994 -0.012690 -0.008875     0.016627 -0.025605   \n",
       "Turbidity       -0.036222 -0.014449  0.019546     0.002363 -0.009790   \n",
       "\n",
       "                 Conductivity  Organic_carbon  Trihalomethanes  Turbidity  \n",
       "ph                   0.017192        0.040061         0.002994  -0.036222  \n",
       "Hardness            -0.023915        0.003610        -0.012690  -0.014449  \n",
       "Solids               0.013831        0.010242        -0.008875   0.019546  \n",
       "Chloramines         -0.020486       -0.012653         0.016627   0.002363  \n",
       "Sulfate             -0.014059        0.026909        -0.025605  -0.009790  \n",
       "Conductivity         1.000000        0.020966         0.001255   0.005798  \n",
       "Organic_carbon       0.020966        1.000000        -0.012976  -0.027308  \n",
       "Trihalomethanes      0.001255       -0.012976         1.000000  -0.021502  \n",
       "Turbidity            0.005798       -0.027308        -0.021502   1.000000  "
      ]
     },
     "execution_count": 11,
     "metadata": {},
     "output_type": "execute_result"
    }
   ],
   "source": [
    "# Tableau de valeurs de corrélation\n",
    "num_corr = df.drop('Potability',axis=1).corr()\n",
    "num_corr"
   ]
  },
  {
   "cell_type": "raw",
   "id": "17c769d4",
   "metadata": {},
   "source": [
    "On constate de manière générale l'absence de corrélation (< 0.1) entre les paramètres étudiés."
   ]
  },
  {
   "cell_type": "code",
   "execution_count": 12,
   "id": "789b4954",
   "metadata": {},
   "outputs": [
    {
     "data": {
      "image/png": "[encoded data removed]",
      "text/plain": [
       "<Figure size 720x504 with 2 Axes>"
      ]
     },
     "metadata": {
      "needs_background": "light"
     },
     "output_type": "display_data"
    }
   ],
   "source": [
    "# Représentation graphiques des corrélations supérieurs à 0.1\n",
    "num_corr = num_corr[abs(num_corr) >= 0.1]\n",
    "plt.figure(figsize=(10, 7))\n",
    "g = sns.heatmap(num_corr,\n",
    "            annot=True,\n",
    "            fmt='.1f',\n",
    "            cmap='GnBu',\n",
    "            vmin=-1,\n",
    "            vmax=1)\n",
    "g.set_xticklabels(g.get_xticklabels(), rotation=45, horizontalalignment='right')\n",
    "title = plt.title('Correlations entre les variables quantitatives')"
   ]
  },
  {
   "cell_type": "raw",
   "id": "17350d45",
   "metadata": {},
   "source": [
    "Seul le sulphate et les matières solides affichent une corrélation négative de 0.14.\n",
    "On confirme ici l'absence de corrélation entre tous les paramètres étudiés."
   ]
  },
  {
   "cell_type": "markdown",
   "id": "673a2b98",
   "metadata": {},
   "source": [
    "# 6) Etude graphique"
   ]
  },
  {
   "cell_type": "raw",
   "id": "f4c81dd1",
   "metadata": {},
   "source": [
    "Afin de mettre en évidence des relations éventuelles entre la potabilité (variable qualitative) et les différents paramètres mesurés dans les eaux (variables quantitatives), il sera utilisé des boites à moustaches (box plot)."
   ]
  },
  {
   "cell_type": "code",
   "execution_count": 13,
   "id": "a8b2dfd2",
   "metadata": {},
   "outputs": [
    {
     "data": {
      "image/png": "[encoded data removed]",
      "text/plain": [
       "<Figure size 1224x1224 with 9 Axes>"
      ]
     },
     "metadata": {
      "needs_background": "light"
     },
     "output_type": "display_data"
    }
   ],
   "source": [
    "fig = plt.figure(figsize=(17,17))\n",
    "\n",
    "x=\"Potability\"\n",
    "plt.subplot(431)\n",
    "ax1 = sns.boxplot(x=x, y='ph', data=df, palette=\"Blues\")\n",
    "plt.subplot(432)\n",
    "ax2 = sns.boxplot(x=x, y='Hardness', data=df, palette=\"Blues\")\n",
    "plt.subplot(433)\n",
    "ax3 = sns.boxplot(x=x, y='Solids', data=df, palette=\"Blues\")\n",
    "plt.subplot(434)\n",
    "ax4 = sns.boxplot(x=x, y='Chloramines', data=df, palette=\"Blues\")\n",
    "plt.subplot(435)\n",
    "ax5 = sns.boxplot(x=x, y='Sulfate', data=df, palette=\"Blues\")\n",
    "plt.subplot(436)\n",
    "ax6 = sns.boxplot(x=x, y='Conductivity', data=df, palette=\"Blues\")\n",
    "plt.subplot(437)\n",
    "ax7 = sns.boxplot(x=x, y='Organic_carbon', data=df, palette=\"Blues\")\n",
    "plt.subplot(438)\n",
    "ax8 = sns.boxplot(x=x, y='Trihalomethanes', data=df, palette=\"Blues\")\n",
    "plt.subplot(439)\n",
    "ax9 = sns.boxplot(x=x, y='Turbidity', data=df, palette=\"Blues\")\n",
    "plt.show()"
   ]
  },
  {
   "cell_type": "raw",
   "id": "f258260c",
   "metadata": {},
   "source": [
    "Pour chacun des paramètres quantitatifs, on constate que les médiannes sont quasi-identiques entre les eaux potables et non potables. Il n'y a donc pas de relation entre la potabilité des eaux et un unique paramètre quantitatif. \n",
    "\n",
    "De plus, on constate des valeurs extrêmes qui ne peuvent pas être considérées comme abérantes dans ce cas-ci.\n",
    "\n",
    "Une étude de l'ensemble des paramètres avec la potabilité est envisagée. Le dataset sera normalisé et randomisé afin d'étudier une modélisation avec plusieurs variables explicatives."
   ]
  },
  {
   "cell_type": "markdown",
   "id": "df438bd9",
   "metadata": {},
   "source": [
    "# 7) Normalisation et randomisation"
   ]
  },
  {
   "cell_type": "code",
   "execution_count": 14,
   "id": "33a92280",
   "metadata": {},
   "outputs": [
    {
     "data": {
      "text/html": [
       "<div>\n",
       "<style scoped>\n",
       "    .dataframe tbody tr th:only-of-type {\n",
       "        vertical-align: middle;\n",
       "    }\n",
       "\n",
       "    .dataframe tbody tr th {\n",
       "        vertical-align: top;\n",
       "    }\n",
       "\n",
       "    .dataframe thead th {\n",
       "        text-align: right;\n",
       "    }\n",
       "</style>\n",
       "<table border=\"1\" class=\"dataframe\">\n",
       "  <thead>\n",
       "    <tr style=\"text-align: right;\">\n",
       "      <th></th>\n",
       "      <th>ph</th>\n",
       "      <th>Hardness</th>\n",
       "      <th>Solids</th>\n",
       "      <th>Chloramines</th>\n",
       "      <th>Sulfate</th>\n",
       "      <th>Conductivity</th>\n",
       "      <th>Organic_carbon</th>\n",
       "      <th>Trihalomethanes</th>\n",
       "      <th>Turbidity</th>\n",
       "      <th>Potability</th>\n",
       "    </tr>\n",
       "  </thead>\n",
       "  <tbody>\n",
       "    <tr>\n",
       "      <th>0</th>\n",
       "      <td>3.927437e-14</td>\n",
       "      <td>0.259155</td>\n",
       "      <td>-0.139450</td>\n",
       "      <td>0.112398</td>\n",
       "      <td>9.612107e-01</td>\n",
       "      <td>1.708693</td>\n",
       "      <td>-1.180470</td>\n",
       "      <td>1.305950e+00</td>\n",
       "      <td>-1.286101</td>\n",
       "      <td>0</td>\n",
       "    </tr>\n",
       "    <tr>\n",
       "      <th>1</th>\n",
       "      <td>-2.288990e+00</td>\n",
       "      <td>-2.036103</td>\n",
       "      <td>-0.385928</td>\n",
       "      <td>-0.307647</td>\n",
       "      <td>-3.302782e-14</td>\n",
       "      <td>2.062260</td>\n",
       "      <td>0.270556</td>\n",
       "      <td>-6.383825e-01</td>\n",
       "      <td>0.684113</td>\n",
       "      <td>0</td>\n",
       "    </tr>\n",
       "    <tr>\n",
       "      <th>2</th>\n",
       "      <td>6.927620e-01</td>\n",
       "      <td>0.847535</td>\n",
       "      <td>-0.240011</td>\n",
       "      <td>1.360386</td>\n",
       "      <td>-3.302782e-14</td>\n",
       "      <td>-0.094018</td>\n",
       "      <td>0.780998</td>\n",
       "      <td>1.509178e-03</td>\n",
       "      <td>-1.167187</td>\n",
       "      <td>0</td>\n",
       "    </tr>\n",
       "    <tr>\n",
       "      <th>3</th>\n",
       "      <td>8.408220e-01</td>\n",
       "      <td>0.547568</td>\n",
       "      <td>0.000493</td>\n",
       "      <td>0.591917</td>\n",
       "      <td>6.394214e-01</td>\n",
       "      <td>-0.778711</td>\n",
       "      <td>1.254943</td>\n",
       "      <td>2.152545e+00</td>\n",
       "      <td>0.848282</td>\n",
       "      <td>0</td>\n",
       "    </tr>\n",
       "    <tr>\n",
       "      <th>4</th>\n",
       "      <td>1.368360e+00</td>\n",
       "      <td>-0.464358</td>\n",
       "      <td>-0.460178</td>\n",
       "      <td>-0.363642</td>\n",
       "      <td>-6.540767e-01</td>\n",
       "      <td>-0.343886</td>\n",
       "      <td>-0.824231</td>\n",
       "      <td>-2.181266e+00</td>\n",
       "      <td>0.138764</td>\n",
       "      <td>0</td>\n",
       "    </tr>\n",
       "    <tr>\n",
       "      <th>...</th>\n",
       "      <td>...</td>\n",
       "      <td>...</td>\n",
       "      <td>...</td>\n",
       "      <td>...</td>\n",
       "      <td>...</td>\n",
       "      <td>...</td>\n",
       "      <td>...</td>\n",
       "      <td>...</td>\n",
       "      <td>...</td>\n",
       "      <td>...</td>\n",
       "    </tr>\n",
       "    <tr>\n",
       "      <th>3271</th>\n",
       "      <td>-1.641337e+00</td>\n",
       "      <td>-0.081745</td>\n",
       "      <td>2.915743</td>\n",
       "      <td>0.028023</td>\n",
       "      <td>7.241535e-01</td>\n",
       "      <td>1.239966</td>\n",
       "      <td>-0.118057</td>\n",
       "      <td>1.847838e-02</td>\n",
       "      <td>0.601032</td>\n",
       "      <td>1</td>\n",
       "    </tr>\n",
       "    <tr>\n",
       "      <th>3272</th>\n",
       "      <td>4.952948e-01</td>\n",
       "      <td>-0.085654</td>\n",
       "      <td>-0.534214</td>\n",
       "      <td>0.593200</td>\n",
       "      <td>-3.302782e-14</td>\n",
       "      <td>-0.417642</td>\n",
       "      <td>1.698301</td>\n",
       "      <td>3.604556e-15</td>\n",
       "      <td>-1.497398</td>\n",
       "      <td>1</td>\n",
       "    </tr>\n",
       "    <tr>\n",
       "      <th>3273</th>\n",
       "      <td>1.591011e+00</td>\n",
       "      <td>-0.626734</td>\n",
       "      <td>1.270616</td>\n",
       "      <td>0.143995</td>\n",
       "      <td>-3.302782e-14</td>\n",
       "      <td>0.072252</td>\n",
       "      <td>-0.981179</td>\n",
       "      <td>2.187149e-01</td>\n",
       "      <td>-0.855876</td>\n",
       "      <td>1</td>\n",
       "    </tr>\n",
       "    <tr>\n",
       "      <th>3274</th>\n",
       "      <td>-1.329313e+00</td>\n",
       "      <td>1.041196</td>\n",
       "      <td>-1.143883</td>\n",
       "      <td>-0.517294</td>\n",
       "      <td>-3.302782e-14</td>\n",
       "      <td>-0.288553</td>\n",
       "      <td>-0.941920</td>\n",
       "      <td>7.033610e-01</td>\n",
       "      <td>0.950652</td>\n",
       "      <td>1</td>\n",
       "    </tr>\n",
       "    <tr>\n",
       "      <th>3275</th>\n",
       "      <td>5.400685e-01</td>\n",
       "      <td>-0.038540</td>\n",
       "      <td>-0.525732</td>\n",
       "      <td>0.244478</td>\n",
       "      <td>-3.302782e-14</td>\n",
       "      <td>-1.221732</td>\n",
       "      <td>0.560854</td>\n",
       "      <td>7.801044e-01</td>\n",
       "      <td>-2.124134</td>\n",
       "      <td>1</td>\n",
       "    </tr>\n",
       "  </tbody>\n",
       "</table>\n",
       "<p>3276 rows × 10 columns</p>\n",
       "</div>"
      ],
      "text/plain": [
       "                ph  Hardness    Solids  Chloramines       Sulfate  \\\n",
       "0     3.927437e-14  0.259155 -0.139450     0.112398  9.612107e-01   \n",
       "1    -2.288990e+00 -2.036103 -0.385928    -0.307647 -3.302782e-14   \n",
       "2     6.927620e-01  0.847535 -0.240011     1.360386 -3.302782e-14   \n",
       "3     8.408220e-01  0.547568  0.000493     0.591917  6.394214e-01   \n",
       "4     1.368360e+00 -0.464358 -0.460178    -0.363642 -6.540767e-01   \n",
       "...            ...       ...       ...          ...           ...   \n",
       "3271 -1.641337e+00 -0.081745  2.915743     0.028023  7.241535e-01   \n",
       "3272  4.952948e-01 -0.085654 -0.534214     0.593200 -3.302782e-14   \n",
       "3273  1.591011e+00 -0.626734  1.270616     0.143995 -3.302782e-14   \n",
       "3274 -1.329313e+00  1.041196 -1.143883    -0.517294 -3.302782e-14   \n",
       "3275  5.400685e-01 -0.038540 -0.525732     0.244478 -3.302782e-14   \n",
       "\n",
       "      Conductivity  Organic_carbon  Trihalomethanes  Turbidity  Potability  \n",
       "0         1.708693       -1.180470     1.305950e+00  -1.286101           0  \n",
       "1         2.062260        0.270556    -6.383825e-01   0.684113           0  \n",
       "2        -0.094018        0.780998     1.509178e-03  -1.167187           0  \n",
       "3        -0.778711        1.254943     2.152545e+00   0.848282           0  \n",
       "4        -0.343886       -0.824231    -2.181266e+00   0.138764           0  \n",
       "...            ...             ...              ...        ...         ...  \n",
       "3271      1.239966       -0.118057     1.847838e-02   0.601032           1  \n",
       "3272     -0.417642        1.698301     3.604556e-15  -1.497398           1  \n",
       "3273      0.072252       -0.981179     2.187149e-01  -0.855876           1  \n",
       "3274     -0.288553       -0.941920     7.033610e-01   0.950652           1  \n",
       "3275     -1.221732        0.560854     7.801044e-01  -2.124134           1  \n",
       "\n",
       "[3276 rows x 10 columns]"
      ]
     },
     "execution_count": 14,
     "metadata": {},
     "output_type": "execute_result"
    }
   ],
   "source": [
    "# Normalisation\n",
    "params=[c for c in df.columns if c!= 'Potability']\n",
    "mean = df[params].mean()\n",
    "et = df[params].std()\n",
    "df_norm =(df[params] - mean) / et\n",
    "df_norm['Potability'] = df['Potability'] \n",
    "df_norm"
   ]
  },
  {
   "cell_type": "code",
   "execution_count": 15,
   "id": "21092792",
   "metadata": {},
   "outputs": [],
   "source": [
    "# Randomisation\n",
    "# np.random.seed(1)\n",
    "# new_df_norm = np.random.permutation(df_norm.index)\n",
    "# df_norm = df_norm.loc[new_df_norm]\n",
    "# df_norm"
   ]
  },
  {
   "cell_type": "raw",
   "id": "94d5ca90",
   "metadata": {},
   "source": [
    "La randomisation sera intégrée dans la modélisation des données."
   ]
  },
  {
   "cell_type": "markdown",
   "id": "21a56e60",
   "metadata": {},
   "source": [
    "# 8) Modélisation"
   ]
  },
  {
   "cell_type": "markdown",
   "id": "75bcd2d0",
   "metadata": {},
   "source": [
    "# 8.1) Première approche"
   ]
  },
  {
   "cell_type": "raw",
   "id": "acc424ab",
   "metadata": {},
   "source": [
    "Dans un premier temps, il sera tester différents modèle de machine learning à l'aide d'un train test split (20% des données pour le test set) sans optimisation des hyper-paramètres et avec un cross validation (kfold = 5)"
   ]
  },
  {
   "cell_type": "code",
   "execution_count": 45,
   "id": "7c1a1225",
   "metadata": {},
   "outputs": [],
   "source": [
    "X = df_norm.drop('Potability',axis=1)\n",
    "y = df_norm['Potability']\n",
    "X_train, X_test, y_train, y_test = train_test_split(X, y, test_size=0.2, random_state=5)"
   ]
  },
  {
   "cell_type": "code",
   "execution_count": 51,
   "id": "d9557417",
   "metadata": {},
   "outputs": [
    {
     "name": "stdout",
     "output_type": "stream",
     "text": [
      "X_train Shape: (2620, 9), y_train Shape: (2620,), X_test Shape: (656, 9), y_test Shape: (656,) \n"
     ]
    },
    {
     "data": {
      "text/html": [
       "<div>\n",
       "<style scoped>\n",
       "    .dataframe tbody tr th:only-of-type {\n",
       "        vertical-align: middle;\n",
       "    }\n",
       "\n",
       "    .dataframe tbody tr th {\n",
       "        vertical-align: top;\n",
       "    }\n",
       "\n",
       "    .dataframe thead th {\n",
       "        text-align: right;\n",
       "    }\n",
       "</style>\n",
       "<table border=\"1\" class=\"dataframe\">\n",
       "  <thead>\n",
       "    <tr style=\"text-align: right;\">\n",
       "      <th></th>\n",
       "      <th>model</th>\n",
       "      <th>cv score</th>\n",
       "    </tr>\n",
       "  </thead>\n",
       "  <tbody>\n",
       "    <tr>\n",
       "      <th>3</th>\n",
       "      <td>Random forest</td>\n",
       "      <td>0.66</td>\n",
       "    </tr>\n",
       "    <tr>\n",
       "      <th>0</th>\n",
       "      <td>Logistic regression</td>\n",
       "      <td>0.61</td>\n",
       "    </tr>\n",
       "    <tr>\n",
       "      <th>1</th>\n",
       "      <td>KNN</td>\n",
       "      <td>0.61</td>\n",
       "    </tr>\n",
       "    <tr>\n",
       "      <th>2</th>\n",
       "      <td>Decision tree</td>\n",
       "      <td>0.57</td>\n",
       "    </tr>\n",
       "  </tbody>\n",
       "</table>\n",
       "</div>"
      ],
      "text/plain": [
       "                 model  cv score\n",
       "3        Random forest      0.66\n",
       "0  Logistic regression      0.61\n",
       "1                  KNN      0.61\n",
       "2        Decision tree      0.57"
      ]
     },
     "execution_count": 51,
     "metadata": {},
     "output_type": "execute_result"
    }
   ],
   "source": [
    "models =[(\"Logistic regression\", LogisticRegression()),('KNN',KNeighborsClassifier()),\n",
    "             (\"Decision tree\", DecisionTreeClassifier()),('Random forest',RandomForestClassifier())]\n",
    "\n",
    "cv_score_list = []\n",
    "model_name_list = []\n",
    "\n",
    "for name ,model in models:\n",
    "    model.fit(X_train, y_train)\n",
    "    cv_score_list.append(round(cross_val_score(model, X_train, y_train, scoring='accuracy', cv=5).mean(), 2))\n",
    "    model_name_list.append(name)\n",
    "    \n",
    "print(f'X_train Shape: {X_train.shape}, y_train Shape: {y_train.shape}, X_test Shape: {X_test.shape}, y_test Shape: {y_test.shape} ')\n",
    "\n",
    "df_result = pd.DataFrame(columns = ['model', 'cv score'])\n",
    "df_result['model'] = model_name_list\n",
    "df_result['cv score'] = cv_score_list\n",
    "df_result.sort_values(by=['cv score'], ascending = False)"
   ]
  },
  {
   "cell_type": "raw",
   "id": "2a63d5a9",
   "metadata": {},
   "source": [
    "L'algorythme de machine learning le plus pertinent est le random forest avec une précision de 66%."
   ]
  },
  {
   "cell_type": "markdown",
   "id": "718875fc",
   "metadata": {},
   "source": [
    "# 8.2) SMOTE"
   ]
  },
  {
   "cell_type": "raw",
   "id": "98c58635",
   "metadata": {},
   "source": [
    "Afin de palier à la disproportion d'échantillons en terme de potabilité, il est utilisé une méthode d'oversampling, le SMOTE.\n",
    "\n",
    "Le SMOTE, acronyme pour Synthetic Minority Oversampling TEchnique, est une méthode de suréchantillonnage des observations minoritaires. Pour éviter de réaliser un simple clonage des individus minoritaires, le SMOTE se base sur un principe simple : générer de nouveaux individus minoritaires qui ressemblent aux autres, sans être strictement identiques. Cela permet de densifier de façon plus homogène la population d’individus minoritaires.\n",
    "\n",
    "C’est sur ces données transformées, auxquelles on a ajouté de faux individus synthétiques, que l’on va ensuite entraîner un modèle de Machine Learning."
   ]
  },
  {
   "cell_type": "code",
   "execution_count": 52,
   "id": "4b10bfe7",
   "metadata": {},
   "outputs": [],
   "source": [
    "samp = SMOTE()\n",
    "X = df_norm.drop('Potability',axis=1)\n",
    "y = df_norm['Potability']\n",
    "X_train, X_test, y_train, y_test = train_test_split(X, y, test_size=0.2, random_state=5)\n",
    "X_train, y_train =samp.fit_resample(X_train,y_train)"
   ]
  },
  {
   "cell_type": "code",
   "execution_count": 53,
   "id": "edc59405",
   "metadata": {},
   "outputs": [
    {
     "data": {
      "image/png": "[encoded data removed]",
      "text/plain": [
       "<Figure size 504x504 with 1 Axes>"
      ]
     },
     "metadata": {},
     "output_type": "display_data"
    }
   ],
   "source": [
    "# Répartion des échantillons en terme de potabilité\n",
    "potability_pie = y_train.value_counts()\n",
    "fig, ax = plt.subplots(figsize=(7, 7))\n",
    "labels = 'Non potable', 'Potable'\n",
    "colors = ['#1B6473', '#12CBF0']\n",
    "explode = (0, 0.1)\n",
    "ax.pie(potability_pie, labels=labels, autopct='%1.1f%%', colors=colors, shadow=True, startangle=90, explode=explode)\n",
    "ax.axis('equal')\n",
    "plt.title('Repartition des échantillons en terme de potabilité', fontsize=14)\n",
    "plt.show()"
   ]
  },
  {
   "cell_type": "raw",
   "id": "0373938d",
   "metadata": {},
   "source": [
    "Le ré-échantillonage nous montre des proportions similaires entre les eaux potables et non potables."
   ]
  },
  {
   "cell_type": "code",
   "execution_count": 54,
   "id": "738d08d0",
   "metadata": {},
   "outputs": [
    {
     "name": "stdout",
     "output_type": "stream",
     "text": [
      "X_train Shape: (3198, 9), y_train Shape: (3198,), X_test Shape: (656, 9), y_test Shape: (656,) \n"
     ]
    },
    {
     "data": {
      "text/html": [
       "<div>\n",
       "<style scoped>\n",
       "    .dataframe tbody tr th:only-of-type {\n",
       "        vertical-align: middle;\n",
       "    }\n",
       "\n",
       "    .dataframe tbody tr th {\n",
       "        vertical-align: top;\n",
       "    }\n",
       "\n",
       "    .dataframe thead th {\n",
       "        text-align: right;\n",
       "    }\n",
       "</style>\n",
       "<table border=\"1\" class=\"dataframe\">\n",
       "  <thead>\n",
       "    <tr style=\"text-align: right;\">\n",
       "      <th></th>\n",
       "      <th>model</th>\n",
       "      <th>cv score</th>\n",
       "    </tr>\n",
       "  </thead>\n",
       "  <tbody>\n",
       "    <tr>\n",
       "      <th>3</th>\n",
       "      <td>Random forest</td>\n",
       "      <td>0.74</td>\n",
       "    </tr>\n",
       "    <tr>\n",
       "      <th>1</th>\n",
       "      <td>KNN</td>\n",
       "      <td>0.66</td>\n",
       "    </tr>\n",
       "    <tr>\n",
       "      <th>2</th>\n",
       "      <td>Decision tree</td>\n",
       "      <td>0.63</td>\n",
       "    </tr>\n",
       "    <tr>\n",
       "      <th>0</th>\n",
       "      <td>Logistic regression</td>\n",
       "      <td>0.49</td>\n",
       "    </tr>\n",
       "  </tbody>\n",
       "</table>\n",
       "</div>"
      ],
      "text/plain": [
       "                 model  cv score\n",
       "3        Random forest      0.74\n",
       "1                  KNN      0.66\n",
       "2        Decision tree      0.63\n",
       "0  Logistic regression      0.49"
      ]
     },
     "execution_count": 54,
     "metadata": {},
     "output_type": "execute_result"
    }
   ],
   "source": [
    "models =[(\"Logistic regression\", LogisticRegression()),('KNN',KNeighborsClassifier()),\n",
    "             (\"Decision tree\", DecisionTreeClassifier()),('Random forest',RandomForestClassifier())]\n",
    "\n",
    "cv_score_list = []\n",
    "model_name_list = []\n",
    "\n",
    "for name ,model in models:\n",
    "    model.fit(X_train, y_train)\n",
    "    cv_score_list.append(round(cross_val_score(model, X_train, y_train, scoring='accuracy', cv=5).mean(), 2))\n",
    "    model_name_list.append(name)\n",
    "    \n",
    "print(f'X_train Shape: {X_train.shape}, y_train Shape: {y_train.shape}, X_test Shape: {X_test.shape}, y_test Shape: {y_test.shape} ')\n",
    "\n",
    "df_result = pd.DataFrame(columns = ['model', 'cv score'])\n",
    "df_result['model'] = model_name_list\n",
    "df_result['cv score'] = cv_score_list\n",
    "df_result.sort_values(by=['cv score'], ascending = False)"
   ]
  },
  {
   "cell_type": "code",
   "execution_count": null,
   "id": "4aaacec1",
   "metadata": {},
   "outputs": [],
   "source": []
  },
  {
   "cell_type": "raw",
   "id": "d3235f1c",
   "metadata": {},
   "source": [
    "L'utilisation d'un SMOTE a montré une amélioration pour le random forest avec 74% de précison, pour le knn avec 66% et pour le decision tree avec 63% de précision. En revanche, le score a nettement baissé pour la régression logistique qui est passé de 61% à 49% de précision."
   ]
  },
  {
   "cell_type": "markdown",
   "id": "3139b141",
   "metadata": {},
   "source": [
    "# 8.3) Recherche des hyper-paramètres optimaux avec GridSearchCV"
   ]
  },
  {
   "cell_type": "code",
   "execution_count": 55,
   "id": "2d52adad",
   "metadata": {},
   "outputs": [],
   "source": [
    "def hyper_params(param_grid, model):\n",
    "    grid = GridSearchCV(model , param_grid, scoring = 'accuracy')\n",
    "    grid.fit(X_train, y_train)\n",
    "    model = grid.best_estimator_\n",
    "    print(model)\n",
    "    print(grid.best_score_)\n",
    "    print(grid.best_params_)\n",
    "    return model"
   ]
  },
  {
   "cell_type": "code",
   "execution_count": 25,
   "id": "ff232a1a",
   "metadata": {},
   "outputs": [],
   "source": [
    "# K les plus proches voisins"
   ]
  },
  {
   "cell_type": "code",
   "execution_count": 56,
   "id": "21dea359",
   "metadata": {},
   "outputs": [
    {
     "name": "stdout",
     "output_type": "stream",
     "text": [
      "KNeighborsClassifier(metric='euclidean', n_neighbors=1)\n",
      "0.7398713810641627\n",
      "{'metric': 'euclidean', 'n_neighbors': 1}\n"
     ]
    },
    {
     "data": {
      "text/plain": [
       "KNeighborsClassifier(metric='euclidean', n_neighbors=1)"
      ]
     },
     "execution_count": 56,
     "metadata": {},
     "output_type": "execute_result"
    }
   ],
   "source": [
    "hyper_params({'n_neighbors': np.arange(1,50),\n",
    "              'metric':['euclidean','manhattan']},\n",
    "             KNeighborsClassifier())"
   ]
  },
  {
   "cell_type": "code",
   "execution_count": 57,
   "id": "099c2d80",
   "metadata": {},
   "outputs": [
    {
     "data": {
      "text/plain": [
       "0.74"
      ]
     },
     "execution_count": 57,
     "metadata": {},
     "output_type": "execute_result"
    }
   ],
   "source": [
    "round(cross_val_score(KNeighborsClassifier(metric='euclidean', n_neighbors=1), X_train, y_train, cv=5, scoring='accuracy').mean(), 2)"
   ]
  },
  {
   "cell_type": "code",
   "execution_count": 28,
   "id": "bf6ed92f",
   "metadata": {},
   "outputs": [],
   "source": [
    "# Régression logistique"
   ]
  },
  {
   "cell_type": "code",
   "execution_count": 58,
   "id": "508ee01f",
   "metadata": {},
   "outputs": [
    {
     "name": "stdout",
     "output_type": "stream",
     "text": [
      "LogisticRegression(solver='newton-cg')\n",
      "0.49468750000000006\n",
      "{'solver': 'newton-cg'}\n"
     ]
    },
    {
     "data": {
      "text/plain": [
       "LogisticRegression(solver='newton-cg')"
      ]
     },
     "execution_count": 58,
     "metadata": {},
     "output_type": "execute_result"
    }
   ],
   "source": [
    "hyper_params({'solver': ['newton-cg', 'lbfgs', 'liblinear', 'sag', 'saga']},\n",
    "             LogisticRegression())"
   ]
  },
  {
   "cell_type": "code",
   "execution_count": 59,
   "id": "5f143d27",
   "metadata": {},
   "outputs": [
    {
     "data": {
      "text/plain": [
       "0.49"
      ]
     },
     "execution_count": 59,
     "metadata": {},
     "output_type": "execute_result"
    }
   ],
   "source": [
    "round(cross_val_score(LogisticRegression(solver='newton-cg'), X_train, y_train, cv=5, scoring='accuracy').mean(), 2)"
   ]
  },
  {
   "cell_type": "code",
   "execution_count": 31,
   "id": "baf0cb32",
   "metadata": {},
   "outputs": [],
   "source": [
    "# Les arbres de décision"
   ]
  },
  {
   "cell_type": "code",
   "execution_count": 60,
   "id": "420a72be",
   "metadata": {},
   "outputs": [
    {
     "name": "stdout",
     "output_type": "stream",
     "text": [
      "DecisionTreeClassifier(criterion='entropy', max_depth=87, max_features='auto')\n",
      "0.6463595461658842\n",
      "{'criterion': 'entropy', 'max_depth': 87, 'max_features': 'auto'}\n"
     ]
    },
    {
     "data": {
      "text/plain": [
       "DecisionTreeClassifier(criterion='entropy', max_depth=87, max_features='auto')"
      ]
     },
     "execution_count": 60,
     "metadata": {},
     "output_type": "execute_result"
    }
   ],
   "source": [
    "hyper_params({'criterion': ['gini', 'entropy'],\n",
    "              'max_depth': np.arange(1,100),\n",
    "              'max_features': ['auto', 'sqrt', 'log2']}, \n",
    "             DecisionTreeClassifier())"
   ]
  },
  {
   "cell_type": "code",
   "execution_count": 61,
   "id": "fd1e2e6d",
   "metadata": {},
   "outputs": [
    {
     "data": {
      "text/plain": [
       "0.62"
      ]
     },
     "execution_count": 61,
     "metadata": {},
     "output_type": "execute_result"
    }
   ],
   "source": [
    "round(cross_val_score(DecisionTreeClassifier(criterion='entropy', max_depth=87, max_features='auto'), X_train, y_train, cv=5, scoring='accuracy').mean(), 2)"
   ]
  },
  {
   "cell_type": "code",
   "execution_count": 34,
   "id": "ad72ce9a",
   "metadata": {},
   "outputs": [],
   "source": [
    "# Forêts aléatoires"
   ]
  },
  {
   "cell_type": "code",
   "execution_count": 62,
   "id": "118a0515",
   "metadata": {},
   "outputs": [
    {
     "name": "stdout",
     "output_type": "stream",
     "text": [
      "RandomForestClassifier(max_depth=9)\n",
      "0.6832638888888889\n",
      "{'criterion': 'gini', 'max_depth': 9, 'max_features': 'auto'}\n"
     ]
    },
    {
     "data": {
      "text/plain": [
       "RandomForestClassifier(max_depth=9)"
      ]
     },
     "execution_count": 62,
     "metadata": {},
     "output_type": "execute_result"
    }
   ],
   "source": [
    "hyper_params({'criterion': ['gini', 'entropy'],\n",
    "              'max_depth': np.arange(1,10),\n",
    "              'max_features': ['auto', 'sqrt', 'log2']},\n",
    "             RandomForestClassifier())"
   ]
  },
  {
   "cell_type": "code",
   "execution_count": 65,
   "id": "fd21aa0d",
   "metadata": {},
   "outputs": [
    {
     "data": {
      "text/plain": [
       "0.68"
      ]
     },
     "execution_count": 65,
     "metadata": {},
     "output_type": "execute_result"
    }
   ],
   "source": [
    "round(cross_val_score(RandomForestClassifier(max_depth=9), X_train, y_train, cv=5, scoring='accuracy').mean(), 2)"
   ]
  },
  {
   "cell_type": "raw",
   "id": "b4a77376",
   "metadata": {},
   "source": [
    "L'étude des hyper-paramètres montre une amélioration pour k les plus proches voisins mais pas d'amélioration pour les autres algorythmes de machine learning testés dans ce projet."
   ]
  },
  {
   "cell_type": "markdown",
   "id": "cd54e0d9",
   "metadata": {},
   "source": [
    "# 8.4) Recherche des combinaisons de variables quantitatives optimales"
   ]
  },
  {
   "cell_type": "code",
   "execution_count": 81,
   "id": "f4fd27e8",
   "metadata": {},
   "outputs": [],
   "source": [
    "def comb_model (params_list, model):\n",
    "    samp = SMOTE()\n",
    "    X = df_norm[params_list]\n",
    "    y = df_norm['Potability']\n",
    "    X_train, X_test, y_train, y_test = train_test_split(X, y, test_size=0.2, random_state=5) \n",
    "    X_train, y_train =samp.fit_resample(X_train,y_train)\n",
    "    cv_score_list = []\n",
    "    cv_score_list.append(cross_val_score(model, X_train, y_train, cv=5, scoring = 'accuracy'))\n",
    "    avg_accuracy_max = np.max(cv_score_list)\n",
    "    \n",
    "    #print(f'Le accurancy max est de {avg_accurancy_max} pour un kfold de {avg_accurancy_list.index(max(avg_accurancy_list)) + 2}')\n",
    "    return avg_accuracy_max"
   ]
  },
  {
   "cell_type": "code",
   "execution_count": 82,
   "id": "2b8c347b",
   "metadata": {},
   "outputs": [],
   "source": [
    "def best_comb(model):\n",
    "    select=[c for c in df_norm.columns if c!= 'Potability']\n",
    "    dico = {}\n",
    "    for i in range(1, len(select)+1):\n",
    "        for k in combinations(select,i):\n",
    "            #print(list(k))\n",
    "            #print(model_reg_log(list(k)))\n",
    "            dico[k] = comb_model(list(k), model)\n",
    "    #dico \n",
    "    for k in dico:\n",
    "        best_model = max(dico.items(), key=operator.itemgetter(1))[0]\n",
    "        best_accurancy = max(dico.items(), key=operator.itemgetter(1))[1]\n",
    "    print(f'Les variables les plus performantes sont {list(best_model)} avec une précision de {round(best_accurancy,2)} %')"
   ]
  },
  {
   "cell_type": "code",
   "execution_count": 83,
   "id": "8712eabe",
   "metadata": {},
   "outputs": [
    {
     "name": "stdout",
     "output_type": "stream",
     "text": [
      "Les variables les plus performantes sont ['ph', 'Hardness', 'Solids', 'Chloramines', 'Sulfate', 'Conductivity'] avec une précision de 0.85 %\n"
     ]
    }
   ],
   "source": [
    "best_comb(KNeighborsClassifier(metric='euclidean', n_neighbors=1))"
   ]
  },
  {
   "cell_type": "code",
   "execution_count": 84,
   "id": "99a482ec",
   "metadata": {},
   "outputs": [
    {
     "name": "stdout",
     "output_type": "stream",
     "text": [
      "Les variables les plus performantes sont ['Hardness', 'Organic_carbon', 'Turbidity'] avec une précision de 0.56 %\n"
     ]
    }
   ],
   "source": [
    "best_comb(LogisticRegression())"
   ]
  },
  {
   "cell_type": "code",
   "execution_count": 85,
   "id": "eccbfdf5",
   "metadata": {},
   "outputs": [
    {
     "name": "stdout",
     "output_type": "stream",
     "text": [
      "Les variables les plus performantes sont ['ph', 'Hardness', 'Solids', 'Sulfate', 'Turbidity'] avec une précision de 0.73 %\n"
     ]
    }
   ],
   "source": [
    "best_comb(DecisionTreeClassifier())"
   ]
  },
  {
   "cell_type": "code",
   "execution_count": 86,
   "id": "c5d53dcf",
   "metadata": {},
   "outputs": [
    {
     "name": "stdout",
     "output_type": "stream",
     "text": [
      "Les variables les plus performantes sont ['ph', 'Hardness', 'Solids', 'Chloramines', 'Sulfate', 'Organic_carbon', 'Trihalomethanes'] avec une précision de 0.84 %\n"
     ]
    }
   ],
   "source": [
    "best_comb(RandomForestClassifier())"
   ]
  },
  {
   "cell_type": "raw",
   "id": "8465cf38",
   "metadata": {},
   "source": [
    "L'étude des combinaisons de variables apportent une forte amélioration de la précision des modèles notamment pour random forest, knn et decision tree."
   ]
  },
  {
   "cell_type": "markdown",
   "id": "e18c1a71",
   "metadata": {},
   "source": [
    "# 8.5) Prédiction sur le test set et précision"
   ]
  },
  {
   "cell_type": "code",
   "execution_count": null,
   "id": "86a18d97",
   "metadata": {},
   "outputs": [],
   "source": [
    "# knn"
   ]
  },
  {
   "cell_type": "code",
   "execution_count": 101,
   "id": "09cf5090",
   "metadata": {},
   "outputs": [
    {
     "name": "stdout",
     "output_type": "stream",
     "text": [
      "              precision    recall  f1-score   support\n",
      "\n",
      "           0       0.70      0.71      0.71       399\n",
      "           1       0.54      0.52      0.53       257\n",
      "\n",
      "    accuracy                           0.64       656\n",
      "   macro avg       0.62      0.62      0.62       656\n",
      "weighted avg       0.64      0.64      0.64       656\n",
      "\n"
     ]
    },
    {
     "data": {
      "text/plain": [
       "<AxesSubplot:>"
      ]
     },
     "execution_count": 101,
     "metadata": {},
     "output_type": "execute_result"
    },
    {
     "data": {
      "image/png": "[encoded data removed]",
      "text/plain": [
       "<Figure size 432x288 with 2 Axes>"
      ]
     },
     "metadata": {
      "needs_background": "light"
     },
     "output_type": "display_data"
    }
   ],
   "source": [
    "from sklearn.metrics import classification_report, confusion_matrix\n",
    "\n",
    "samp = SMOTE()\n",
    "X = df_norm[['ph', 'Hardness', 'Solids', 'Chloramines', 'Sulfate', 'Conductivity']]\n",
    "#X = df_norm.drop('Potability',axis=1)\n",
    "y = df_norm['Potability']\n",
    "X_train, X_test, y_train, y_test = train_test_split(X, y, test_size=0.2, random_state=5) \n",
    "X_train, y_train =samp.fit_resample(X_train,y_train)\n",
    "model = KNeighborsClassifier(metric='euclidean', n_neighbors=1)\n",
    "model.fit(X_train,y_train)\n",
    "pred = model.predict(X_test)\n",
    "print(classification_report(y_test, pred))\n",
    "sns.heatmap(confusion_matrix(y_test, pred), annot=True, fmt='.2f')"
   ]
  },
  {
   "cell_type": "code",
   "execution_count": null,
   "id": "a9d2ae10",
   "metadata": {},
   "outputs": [],
   "source": [
    "# Logistic regression"
   ]
  },
  {
   "cell_type": "code",
   "execution_count": 88,
   "id": "af534b19",
   "metadata": {},
   "outputs": [
    {
     "name": "stdout",
     "output_type": "stream",
     "text": [
      "              precision    recall  f1-score   support\n",
      "\n",
      "           0       0.62      0.54      0.58       399\n",
      "           1       0.40      0.48      0.44       257\n",
      "\n",
      "    accuracy                           0.52       656\n",
      "   macro avg       0.51      0.51      0.51       656\n",
      "weighted avg       0.53      0.52      0.52       656\n",
      "\n"
     ]
    },
    {
     "data": {
      "text/plain": [
       "<AxesSubplot:>"
      ]
     },
     "execution_count": 88,
     "metadata": {},
     "output_type": "execute_result"
    },
    {
     "data": {
      "image/png": "[encoded data removed]",
      "text/plain": [
       "<Figure size 432x288 with 2 Axes>"
      ]
     },
     "metadata": {
      "needs_background": "light"
     },
     "output_type": "display_data"
    }
   ],
   "source": [
    "samp = SMOTE()\n",
    "X = df_norm[['Hardness', 'Organic_carbon', 'Turbidity']]\n",
    "y = df_norm['Potability']\n",
    "X_train, X_test, y_train, y_test = train_test_split(X, y, test_size=0.2, random_state=5) \n",
    "X_train, y_train =samp.fit_resample(X_train,y_train)\n",
    "model = LogisticRegression()\n",
    "model.fit(X_train,y_train)\n",
    "pred = model.predict(X_test)\n",
    "print(classification_report(y_test, pred))\n",
    "sns.heatmap(confusion_matrix(y_test, pred), annot=True, fmt='.2f')"
   ]
  },
  {
   "cell_type": "code",
   "execution_count": null,
   "id": "3e722a37",
   "metadata": {},
   "outputs": [],
   "source": [
    "# Decision tree"
   ]
  },
  {
   "cell_type": "code",
   "execution_count": 90,
   "id": "c3fbb4a7",
   "metadata": {},
   "outputs": [
    {
     "name": "stdout",
     "output_type": "stream",
     "text": [
      "              precision    recall  f1-score   support\n",
      "\n",
      "           0       0.70      0.71      0.71       399\n",
      "           1       0.54      0.53      0.54       257\n",
      "\n",
      "    accuracy                           0.64       656\n",
      "   macro avg       0.62      0.62      0.62       656\n",
      "weighted avg       0.64      0.64      0.64       656\n",
      "\n"
     ]
    },
    {
     "data": {
      "text/plain": [
       "<AxesSubplot:>"
      ]
     },
     "execution_count": 90,
     "metadata": {},
     "output_type": "execute_result"
    },
    {
     "data": {
      "image/png": "[encoded data removed]",
      "text/plain": [
       "<Figure size 432x288 with 2 Axes>"
      ]
     },
     "metadata": {
      "needs_background": "light"
     },
     "output_type": "display_data"
    }
   ],
   "source": [
    "samp = SMOTE()\n",
    "X = df_norm[['ph', 'Hardness', 'Solids', 'Sulfate', 'Turbidity']]\n",
    "y = df_norm['Potability']\n",
    "X_train, X_test, y_train, y_test = train_test_split(X, y, test_size=0.2, random_state=5) \n",
    "X_train, y_train =samp.fit_resample(X_train,y_train)\n",
    "model = RandomForestClassifier()\n",
    "model.fit(X_train,y_train)\n",
    "pred = model.predict(X_test)\n",
    "print(classification_report(y_test, pred))\n",
    "sns.heatmap(confusion_matrix(y_test, pred), annot=True, fmt='.2f')"
   ]
  },
  {
   "cell_type": "code",
   "execution_count": null,
   "id": "80dcbcff",
   "metadata": {},
   "outputs": [],
   "source": [
    "# Random forest"
   ]
  },
  {
   "cell_type": "code",
   "execution_count": 108,
   "id": "7f9ada0d",
   "metadata": {},
   "outputs": [
    {
     "name": "stdout",
     "output_type": "stream",
     "text": [
      "              precision    recall  f1-score   support\n",
      "\n",
      "           0       0.68      0.68      0.68       399\n",
      "           1       0.51      0.51      0.51       257\n",
      "\n",
      "    accuracy                           0.61       656\n",
      "   macro avg       0.60      0.60      0.60       656\n",
      "weighted avg       0.61      0.61      0.61       656\n",
      "\n"
     ]
    },
    {
     "data": {
      "text/plain": [
       "<AxesSubplot:>"
      ]
     },
     "execution_count": 108,
     "metadata": {},
     "output_type": "execute_result"
    },
    {
     "data": {
      "image/png": "[encoded data removed]",
      "text/plain": [
       "<Figure size 432x288 with 2 Axes>"
      ]
     },
     "metadata": {
      "needs_background": "light"
     },
     "output_type": "display_data"
    }
   ],
   "source": [
    "samp = SMOTE()\n",
    "X = df_norm[['ph', 'Hardness', 'Solids', 'Chloramines', 'Sulfate', 'Organic_carbon', 'Trihalomethanes']]\n",
    "y = df_norm['Potability']\n",
    "X_train, X_test, y_train, y_test = train_test_split(X, y, test_size=0.2, random_state=5) \n",
    "X_train, y_train =samp.fit_resample(X_train,y_train)\n",
    "model = DecisionTreeClassifier()\n",
    "model.fit(X_train,y_train)\n",
    "pred = model.predict(X_test)\n",
    "print(classification_report(y_test, pred))\n",
    "sns.heatmap(confusion_matrix(y_test, pred), annot=True, fmt='.2f')"
   ]
  },
  {
   "cell_type": "markdown",
   "id": "75e542ac",
   "metadata": {},
   "source": [
    "# 9) Conclusion"
   ]
  },
  {
   "cell_type": "raw",
   "id": "37e7108a",
   "metadata": {},
   "source": [
    "Les prédictions menées sur le test set avec la prise en compte des hyper-paramètres optimaux et des combinaisons de variables, ainsi que de l'utilisation d'un SOMTE, montrent que les modèles les plus performants sont les arbres de décisions et k les plus proches voisins avec une précision de 64% environ. \n",
    "D'autres modèles algorythmiques tels que le GradientBoosting ou le Bagging Classifier pourrait permettre une amélioration du machine learning. "
   ]
  },
  {
   "cell_type": "code",
   "execution_count": null,
   "id": "8b2b697c",
   "metadata": {},
   "outputs": [],
   "source": []
  }
 ],
 "metadata": {
  "kernelspec": {
   "display_name": "Python 3 (ipykernel)",
   "language": "python",
   "name": "python3"
  },
  "language_info": {
   "codemirror_mode": {
    "name": "ipython",
    "version": 3
   },
   "file_extension": ".py",
   "mimetype": "text/x-python",
   "name": "python",
   "nbconvert_exporter": "python",
   "pygments_lexer": "ipython3",
   "version": "3.9.7"
  }
 },
 "nbformat": 4,
 "nbformat_minor": 5
}
